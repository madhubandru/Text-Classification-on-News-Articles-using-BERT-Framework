{
  "nbformat": 4,
  "nbformat_minor": 0,
  "metadata": {
    "colab": {
      "name": "Approach-1.ipynb",
      "provenance": [],
      "collapsed_sections": []
    },
    "kernelspec": {
      "name": "python3",
      "display_name": "Python 3"
    },
    "language_info": {
      "name": "python"
    },
    "accelerator": "GPU"
  },
  "cells": [
    {
      "cell_type": "markdown",
      "metadata": {
        "id": "0rQsccMAX0eZ"
      },
      "source": [
        "Approach-1: Baseline Model\n",
        "\n",
        "As a baseline model we have used Keras Sequential Model for text classification task."
      ]
    },
    {
      "cell_type": "code",
      "metadata": {
        "id": "rPa4DfuuM9p6",
        "colab": {
          "base_uri": "https://localhost:8080/"
        },
        "outputId": "a88dc221-c8ac-4db0-a04b-a253b0ae4c8e"
      },
      "source": [
        "#Import required libraries\n",
        "! pip install num2words\n",
        "\n",
        "import nltk\n",
        "nltk.download('punkt')\n",
        "\n",
        "import bz2\n",
        "import pandas as pd\n",
        "import numpy as np\n",
        "from keras_preprocessing.text import one_hot\n",
        "from keras_preprocessing.sequence import pad_sequences\n",
        "from keras.models import Sequential\n",
        "from keras.layers import Dense\n",
        "from keras.layers import Flatten\n",
        "from keras.layers.embeddings import Embedding\n",
        "from sklearn.model_selection import train_test_split\n",
        "\n",
        "exec(open('/content/preprocess_data.py').read())"
      ],
      "execution_count": 1,
      "outputs": [
        {
          "output_type": "stream",
          "text": [
            "Collecting num2words\n",
            "\u001b[?25l  Downloading https://files.pythonhosted.org/packages/eb/a2/ea800689730732e27711c41beed4b2a129b34974435bdc450377ec407738/num2words-0.5.10-py3-none-any.whl (101kB)\n",
            "\r\u001b[K     |███▎                            | 10kB 12.2MB/s eta 0:00:01\r\u001b[K     |██████▌                         | 20kB 19.1MB/s eta 0:00:01\r\u001b[K     |█████████▊                      | 30kB 19.3MB/s eta 0:00:01\r\u001b[K     |█████████████                   | 40kB 7.1MB/s eta 0:00:01\r\u001b[K     |████████████████▏               | 51kB 8.5MB/s eta 0:00:01\r\u001b[K     |███████████████████▍            | 61kB 9.0MB/s eta 0:00:01\r\u001b[K     |██████████████████████▋         | 71kB 8.9MB/s eta 0:00:01\r\u001b[K     |█████████████████████████▉      | 81kB 9.8MB/s eta 0:00:01\r\u001b[K     |█████████████████████████████   | 92kB 10.3MB/s eta 0:00:01\r\u001b[K     |████████████████████████████████| 102kB 5.6MB/s \n",
            "\u001b[?25hRequirement already satisfied: docopt>=0.6.2 in /usr/local/lib/python3.7/dist-packages (from num2words) (0.6.2)\n",
            "Installing collected packages: num2words\n",
            "Successfully installed num2words-0.5.10\n",
            "[nltk_data] Downloading package punkt to /root/nltk_data...\n",
            "[nltk_data]   Unzipping tokenizers/punkt.zip.\n"
          ],
          "name": "stdout"
        }
      ]
    },
    {
      "cell_type": "code",
      "metadata": {
        "id": "IBFk4JT9CnOF"
      },
      "source": [
        "#Load AG news data\n",
        "sample_data = pd.read_csv('/content/sample.csv')"
      ],
      "execution_count": 2,
      "outputs": []
    },
    {
      "cell_type": "code",
      "metadata": {
        "id": "I4ezEkimCnLc",
        "colab": {
          "base_uri": "https://localhost:8080/",
          "height": 204
        },
        "outputId": "98b64a10-5899-4ea7-8228-d034024e3fce"
      },
      "source": [
        "#sample records of the imported data\n",
        "sample_data.head()"
      ],
      "execution_count": 3,
      "outputs": [
        {
          "output_type": "execute_result",
          "data": {
            "text/html": [
              "<div>\n",
              "<style scoped>\n",
              "    .dataframe tbody tr th:only-of-type {\n",
              "        vertical-align: middle;\n",
              "    }\n",
              "\n",
              "    .dataframe tbody tr th {\n",
              "        vertical-align: top;\n",
              "    }\n",
              "\n",
              "    .dataframe thead th {\n",
              "        text-align: right;\n",
              "    }\n",
              "</style>\n",
              "<table border=\"1\" class=\"dataframe\">\n",
              "  <thead>\n",
              "    <tr style=\"text-align: right;\">\n",
              "      <th></th>\n",
              "      <th>Class</th>\n",
              "      <th>Title</th>\n",
              "      <th>Article</th>\n",
              "    </tr>\n",
              "  </thead>\n",
              "  <tbody>\n",
              "    <tr>\n",
              "      <th>0</th>\n",
              "      <td>3</td>\n",
              "      <td>Fears for T N pension after talks</td>\n",
              "      <td>Unions representing workers at Turner   Newall...</td>\n",
              "    </tr>\n",
              "    <tr>\n",
              "      <th>1</th>\n",
              "      <td>4</td>\n",
              "      <td>The Race is On: Second Private Team Sets Launc...</td>\n",
              "      <td>SPACE.com - TORONTO, Canada -- A second\\team o...</td>\n",
              "    </tr>\n",
              "    <tr>\n",
              "      <th>2</th>\n",
              "      <td>4</td>\n",
              "      <td>Ky. Company Wins Grant to Study Peptides (AP)</td>\n",
              "      <td>AP - A company founded by a chemistry research...</td>\n",
              "    </tr>\n",
              "    <tr>\n",
              "      <th>3</th>\n",
              "      <td>4</td>\n",
              "      <td>Prediction Unit Helps Forecast Wildfires (AP)</td>\n",
              "      <td>AP - It's barely dawn when Mike Fitzpatrick st...</td>\n",
              "    </tr>\n",
              "    <tr>\n",
              "      <th>4</th>\n",
              "      <td>4</td>\n",
              "      <td>Calif. Aims to Limit Farm-Related Smog (AP)</td>\n",
              "      <td>AP - Southern California's smog-fighting agenc...</td>\n",
              "    </tr>\n",
              "  </tbody>\n",
              "</table>\n",
              "</div>"
            ],
            "text/plain": [
              "   Class  ...                                            Article\n",
              "0      3  ...  Unions representing workers at Turner   Newall...\n",
              "1      4  ...  SPACE.com - TORONTO, Canada -- A second\\team o...\n",
              "2      4  ...  AP - A company founded by a chemistry research...\n",
              "3      4  ...  AP - It's barely dawn when Mike Fitzpatrick st...\n",
              "4      4  ...  AP - Southern California's smog-fighting agenc...\n",
              "\n",
              "[5 rows x 3 columns]"
            ]
          },
          "metadata": {
            "tags": []
          },
          "execution_count": 3
        }
      ]
    },
    {
      "cell_type": "markdown",
      "metadata": {
        "id": "fqfaav6ay9Zf"
      },
      "source": [
        "#### Text cleaning"
      ]
    },
    {
      "cell_type": "markdown",
      "metadata": {
        "id": "U3lS7ExGYnHN"
      },
      "source": [
        "Data Cleaning is performed for removal of junk, sepcial characters, extra white spaces and changing numbers to words."
      ]
    },
    {
      "cell_type": "code",
      "metadata": {
        "colab": {
          "base_uri": "https://localhost:8080/"
        },
        "id": "Q122_ldczBkm",
        "outputId": "e6fe31d8-fed6-41c2-eec9-a16194384abc"
      },
      "source": [
        "for i in range(len(sample_data['Article'])):\n",
        "  sample_data['Article'][i] = preprocess(sample_data['Article'][i])"
      ],
      "execution_count": 4,
      "outputs": [
        {
          "output_type": "stream",
          "text": [
            "/usr/local/lib/python3.7/dist-packages/ipykernel_launcher.py:2: SettingWithCopyWarning: \n",
            "A value is trying to be set on a copy of a slice from a DataFrame\n",
            "\n",
            "See the caveats in the documentation: https://pandas.pydata.org/pandas-docs/stable/user_guide/indexing.html#returning-a-view-versus-a-copy\n",
            "  \n"
          ],
          "name": "stderr"
        }
      ]
    },
    {
      "cell_type": "code",
      "metadata": {
        "colab": {
          "base_uri": "https://localhost:8080/",
          "height": 204
        },
        "id": "p1El2AtlzOU6",
        "outputId": "3040fb64-274c-43e9-e8e9-db9a785b721c"
      },
      "source": [
        "sample_data.head()"
      ],
      "execution_count": 5,
      "outputs": [
        {
          "output_type": "execute_result",
          "data": {
            "text/html": [
              "<div>\n",
              "<style scoped>\n",
              "    .dataframe tbody tr th:only-of-type {\n",
              "        vertical-align: middle;\n",
              "    }\n",
              "\n",
              "    .dataframe tbody tr th {\n",
              "        vertical-align: top;\n",
              "    }\n",
              "\n",
              "    .dataframe thead th {\n",
              "        text-align: right;\n",
              "    }\n",
              "</style>\n",
              "<table border=\"1\" class=\"dataframe\">\n",
              "  <thead>\n",
              "    <tr style=\"text-align: right;\">\n",
              "      <th></th>\n",
              "      <th>Class</th>\n",
              "      <th>Title</th>\n",
              "      <th>Article</th>\n",
              "    </tr>\n",
              "  </thead>\n",
              "  <tbody>\n",
              "    <tr>\n",
              "      <th>0</th>\n",
              "      <td>3</td>\n",
              "      <td>Fears for T N pension after talks</td>\n",
              "      <td>unions representing workers at turner newall ...</td>\n",
              "    </tr>\n",
              "    <tr>\n",
              "      <th>1</th>\n",
              "      <td>4</td>\n",
              "      <td>The Race is On: Second Private Team Sets Launc...</td>\n",
              "      <td>space com toronto canada a second team of roc...</td>\n",
              "    </tr>\n",
              "    <tr>\n",
              "      <th>2</th>\n",
              "      <td>4</td>\n",
              "      <td>Ky. Company Wins Grant to Study Peptides (AP)</td>\n",
              "      <td>ap a company founded by a chemistry researche...</td>\n",
              "    </tr>\n",
              "    <tr>\n",
              "      <th>3</th>\n",
              "      <td>4</td>\n",
              "      <td>Prediction Unit Helps Forecast Wildfires (AP)</td>\n",
              "      <td>ap its barely dawn when mike fitzpatrick star...</td>\n",
              "    </tr>\n",
              "    <tr>\n",
              "      <th>4</th>\n",
              "      <td>4</td>\n",
              "      <td>Calif. Aims to Limit Farm-Related Smog (AP)</td>\n",
              "      <td>ap southern californias smog fighting agency ...</td>\n",
              "    </tr>\n",
              "  </tbody>\n",
              "</table>\n",
              "</div>"
            ],
            "text/plain": [
              "   Class  ...                                            Article\n",
              "0      3  ...   unions representing workers at turner newall ...\n",
              "1      4  ...   space com toronto canada a second team of roc...\n",
              "2      4  ...   ap a company founded by a chemistry researche...\n",
              "3      4  ...   ap its barely dawn when mike fitzpatrick star...\n",
              "4      4  ...   ap southern californias smog fighting agency ...\n",
              "\n",
              "[5 rows x 3 columns]"
            ]
          },
          "metadata": {
            "tags": []
          },
          "execution_count": 5
        }
      ]
    },
    {
      "cell_type": "code",
      "metadata": {
        "id": "OzERsQL8zaxl"
      },
      "source": [
        "#dictionary for mapping labels\n",
        "label_check = {1 : 0, 2: 1, 3 : 2, 4 : 3}"
      ],
      "execution_count": 6,
      "outputs": []
    },
    {
      "cell_type": "markdown",
      "metadata": {
        "id": "0gdOZkLPz13L"
      },
      "source": [
        "#### Modeling"
      ]
    },
    {
      "cell_type": "code",
      "metadata": {
        "id": "T-p6FguJG1QU"
      },
      "source": [
        "# Create sentence and label lists\n",
        "sentences = sample_data['Article']\n",
        "labels = [label_check[c] for c in sample_data['Class']]"
      ],
      "execution_count": 7,
      "outputs": []
    },
    {
      "cell_type": "code",
      "metadata": {
        "id": "Rp0XFu0THZDD"
      },
      "source": [
        "#apply one-hot for each sentence to convert into integer\n",
        "vocab_size = 10000\n",
        "encoding = [one_hot(sentence, vocab_size) for sentence in sentences]"
      ],
      "execution_count": 8,
      "outputs": []
    },
    {
      "cell_type": "code",
      "metadata": {
        "colab": {
          "base_uri": "https://localhost:8080/",
          "height": 35
        },
        "id": "ynyPf_RC59im",
        "outputId": "4f6cf427-e79e-4f04-bde8-41b4d1ec206c"
      },
      "source": [
        "sentences[0]"
      ],
      "execution_count": 9,
      "outputs": [
        {
          "output_type": "execute_result",
          "data": {
            "application/vnd.google.colaboratory.intrinsic+json": {
              "type": "string"
            },
            "text/plain": [
              "' unions representing workers at turner newall say they are disappointed after talks with stricken parent firm federal mogul'"
            ]
          },
          "metadata": {
            "tags": []
          },
          "execution_count": 9
        }
      ]
    },
    {
      "cell_type": "code",
      "metadata": {
        "colab": {
          "base_uri": "https://localhost:8080/"
        },
        "id": "B-oFxM6oIDsP",
        "outputId": "05b5b4c9-4f46-4b60-fed8-2cec493e467a"
      },
      "source": [
        "encoding[0]"
      ],
      "execution_count": 10,
      "outputs": [
        {
          "output_type": "execute_result",
          "data": {
            "text/plain": [
              "[7441,\n",
              " 6530,\n",
              " 1668,\n",
              " 5736,\n",
              " 5056,\n",
              " 8268,\n",
              " 3495,\n",
              " 6127,\n",
              " 6808,\n",
              " 7369,\n",
              " 660,\n",
              " 703,\n",
              " 5491,\n",
              " 4765,\n",
              " 5520,\n",
              " 5128,\n",
              " 9383,\n",
              " 1570]"
            ]
          },
          "metadata": {
            "tags": []
          },
          "execution_count": 10
        }
      ]
    },
    {
      "cell_type": "code",
      "metadata": {
        "id": "f0DXPTYVIFOE"
      },
      "source": [
        "#perform padding to make all the sentences in same length\n",
        "max_length = 150\n",
        "padded_encoding = pad_sequences(encoding, maxlen = max_length, padding = 'post')"
      ],
      "execution_count": 11,
      "outputs": []
    },
    {
      "cell_type": "code",
      "metadata": {
        "colab": {
          "base_uri": "https://localhost:8080/"
        },
        "id": "L10vvWmlI05U",
        "outputId": "cfb4f740-64ee-4869-f396-f58760e30312"
      },
      "source": [
        "padded_encoding[0]"
      ],
      "execution_count": 12,
      "outputs": [
        {
          "output_type": "execute_result",
          "data": {
            "text/plain": [
              "array([7441, 6530, 1668, 5736, 5056, 8268, 3495, 6127, 6808, 7369,  660,\n",
              "        703, 5491, 4765, 5520, 5128, 9383, 1570,    0,    0,    0,    0,\n",
              "          0,    0,    0,    0,    0,    0,    0,    0,    0,    0,    0,\n",
              "          0,    0,    0,    0,    0,    0,    0,    0,    0,    0,    0,\n",
              "          0,    0,    0,    0,    0,    0,    0,    0,    0,    0,    0,\n",
              "          0,    0,    0,    0,    0,    0,    0,    0,    0,    0,    0,\n",
              "          0,    0,    0,    0,    0,    0,    0,    0,    0,    0,    0,\n",
              "          0,    0,    0,    0,    0,    0,    0,    0,    0,    0,    0,\n",
              "          0,    0,    0,    0,    0,    0,    0,    0,    0,    0,    0,\n",
              "          0,    0,    0,    0,    0,    0,    0,    0,    0,    0,    0,\n",
              "          0,    0,    0,    0,    0,    0,    0,    0,    0,    0,    0,\n",
              "          0,    0,    0,    0,    0,    0,    0,    0,    0,    0,    0,\n",
              "          0,    0,    0,    0,    0,    0,    0,    0,    0,    0,    0,\n",
              "          0,    0,    0,    0,    0,    0,    0], dtype=int32)"
            ]
          },
          "metadata": {
            "tags": []
          },
          "execution_count": 12
        }
      ]
    },
    {
      "cell_type": "code",
      "metadata": {
        "id": "LE1akZenI25c"
      },
      "source": [
        "#split data into train and test\n",
        "x_train, x_test, y_train, y_test = train_test_split(padded_encoding, labels, test_size = 0.2, random_state = 0)"
      ],
      "execution_count": 13,
      "outputs": []
    },
    {
      "cell_type": "code",
      "metadata": {
        "colab": {
          "base_uri": "https://localhost:8080/"
        },
        "id": "PLIFNbByJ3Vc",
        "outputId": "bf7f79ca-6bb0-4c6a-ce1b-c5024a0f562e"
      },
      "source": [
        "len(x_train)"
      ],
      "execution_count": 14,
      "outputs": [
        {
          "output_type": "execute_result",
          "data": {
            "text/plain": [
              "6080"
            ]
          },
          "metadata": {
            "tags": []
          },
          "execution_count": 14
        }
      ]
    },
    {
      "cell_type": "code",
      "metadata": {
        "id": "Hg1vGWRWM_Na"
      },
      "source": [
        "x_train = np.array(x_train)\n",
        "y_train = np.array(y_train)\n",
        "x_test = np.array(x_test)\n",
        "y_test = np.array(y_test)"
      ],
      "execution_count": 15,
      "outputs": []
    },
    {
      "cell_type": "code",
      "metadata": {
        "id": "MZoKcHL3KgId"
      },
      "source": [
        "#Keras Sequential model\n",
        "model = Sequential()\n",
        "model.add(Embedding(vocab_size, 8, input_length = max_length))\n",
        "model.add(Flatten())\n",
        "model.add(Dense(1, activation = 'sigmoid'))"
      ],
      "execution_count": 16,
      "outputs": []
    },
    {
      "cell_type": "code",
      "metadata": {
        "id": "aEodwGBjLXic"
      },
      "source": [
        "model.compile(optimizer = 'adam', loss = 'categorical_crossentropy', metrics = ['accuracy'])"
      ],
      "execution_count": 17,
      "outputs": []
    },
    {
      "cell_type": "code",
      "metadata": {
        "colab": {
          "base_uri": "https://localhost:8080/"
        },
        "id": "6JuFFIE3UUoQ",
        "outputId": "18c627fa-9642-4e88-dfbf-0ca89e886882"
      },
      "source": [
        "model.summary()"
      ],
      "execution_count": 18,
      "outputs": [
        {
          "output_type": "stream",
          "text": [
            "Model: \"sequential\"\n",
            "_________________________________________________________________\n",
            "Layer (type)                 Output Shape              Param #   \n",
            "=================================================================\n",
            "embedding (Embedding)        (None, 150, 8)            80000     \n",
            "_________________________________________________________________\n",
            "flatten (Flatten)            (None, 1200)              0         \n",
            "_________________________________________________________________\n",
            "dense (Dense)                (None, 1)                 1201      \n",
            "=================================================================\n",
            "Total params: 81,201\n",
            "Trainable params: 81,201\n",
            "Non-trainable params: 0\n",
            "_________________________________________________________________\n"
          ],
          "name": "stdout"
        }
      ]
    },
    {
      "cell_type": "code",
      "metadata": {
        "colab": {
          "base_uri": "https://localhost:8080/"
        },
        "id": "wwNy8sLfMcSt",
        "outputId": "392f8c59-eeef-4ba2-a5eb-8b77ac41b8d6"
      },
      "source": [
        "# model.fit(padded_encoding, labels, epochs = 1)\n",
        "model.fit(x_train, y_train, epochs = 10)"
      ],
      "execution_count": 19,
      "outputs": [
        {
          "output_type": "stream",
          "text": [
            "Epoch 1/10\n",
            "190/190 [==============================] - 14s 3ms/step - loss: 0.0000e+00 - accuracy: 0.2532\n",
            "Epoch 2/10\n",
            "190/190 [==============================] - 1s 3ms/step - loss: 0.0000e+00 - accuracy: 0.2523\n",
            "Epoch 3/10\n",
            "190/190 [==============================] - 1s 3ms/step - loss: 0.0000e+00 - accuracy: 0.2546\n",
            "Epoch 4/10\n",
            "190/190 [==============================] - 1s 3ms/step - loss: 0.0000e+00 - accuracy: 0.2461\n",
            "Epoch 5/10\n",
            "190/190 [==============================] - 1s 3ms/step - loss: 0.0000e+00 - accuracy: 0.2573\n",
            "Epoch 6/10\n",
            "190/190 [==============================] - 1s 3ms/step - loss: 0.0000e+00 - accuracy: 0.2539\n",
            "Epoch 7/10\n",
            "190/190 [==============================] - 1s 3ms/step - loss: 0.0000e+00 - accuracy: 0.2515\n",
            "Epoch 8/10\n",
            "190/190 [==============================] - 1s 3ms/step - loss: 0.0000e+00 - accuracy: 0.2461\n",
            "Epoch 9/10\n",
            "190/190 [==============================] - 1s 3ms/step - loss: 0.0000e+00 - accuracy: 0.2528\n",
            "Epoch 10/10\n",
            "190/190 [==============================] - 1s 3ms/step - loss: 0.0000e+00 - accuracy: 0.2517\n"
          ],
          "name": "stdout"
        },
        {
          "output_type": "execute_result",
          "data": {
            "text/plain": [
              "<keras.callbacks.History at 0x7ff6a0049a10>"
            ]
          },
          "metadata": {
            "tags": []
          },
          "execution_count": 19
        }
      ]
    },
    {
      "cell_type": "code",
      "metadata": {
        "colab": {
          "base_uri": "https://localhost:8080/"
        },
        "id": "RnZtYrwOMn_8",
        "outputId": "a1ea3046-9e35-4504-a9f3-077c34c60c42"
      },
      "source": [
        "loss, accuracy = model.evaluate(x_test, y_test, verbose = 0)\n",
        "print('Accuracy : ', accuracy * 100)\n",
        "print('Loss     : ', loss)"
      ],
      "execution_count": 20,
      "outputs": [
        {
          "output_type": "stream",
          "text": [
            "Accuracy :  24.80263113975525\n",
            "Loss     :  0.0\n"
          ],
          "name": "stdout"
        }
      ]
    }
  ]
}